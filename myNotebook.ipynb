{
 "cells": [
  {
   "cell_type": "code",
   "execution_count": 1,
   "metadata": {},
   "outputs": [
    {
     "name": "stdout",
     "output_type": "stream",
     "text": [
      "Collecting google-cloud-aiplatform\n",
      "  Downloading google_cloud_aiplatform-1.42.1-py2.py3-none-any.whl (3.5 MB)\n",
      "\u001b[K     |████████████████████████████████| 3.5 MB 17.6 MB/s eta 0:00:01\n",
      "\u001b[?25hCollecting google-cloud-resource-manager<3.0.0dev,>=1.3.3\n",
      "  Downloading google_cloud_resource_manager-1.12.2-py2.py3-none-any.whl (333 kB)\n",
      "\u001b[K     |████████████████████████████████| 333 kB 43.1 MB/s eta 0:00:01\n",
      "\u001b[?25hRequirement already satisfied: google-cloud-storage<3.0.0dev,>=1.32.0 in /usr/local/lib/python3.9/dist-packages (from google-cloud-aiplatform) (2.14.0)\n",
      "Collecting shapely<3.0.0dev\n",
      "  Downloading shapely-2.0.3-cp39-cp39-manylinux_2_17_x86_64.manylinux2014_x86_64.whl (2.5 MB)\n",
      "\u001b[K     |████████████████████████████████| 2.5 MB 41.2 MB/s eta 0:00:01\n",
      "\u001b[?25hRequirement already satisfied: proto-plus<2.0.0dev,>=1.22.0 in /usr/local/lib/python3.9/dist-packages (from google-cloud-aiplatform) (1.23.0)\n",
      "Requirement already satisfied: google-auth<3.0.0dev,>=2.14.1 in /usr/local/lib/python3.9/dist-packages (from google-cloud-aiplatform) (2.27.0)\n",
      "Requirement already satisfied: google-cloud-bigquery<4.0.0dev,>=1.15.0 in /usr/local/lib/python3.9/dist-packages (from google-cloud-aiplatform) (3.17.1)\n",
      "Requirement already satisfied: protobuf!=3.20.0,!=3.20.1,!=4.21.0,!=4.21.1,!=4.21.2,!=4.21.3,!=4.21.4,!=4.21.5,<5.0.0dev,>=3.19.5 in /usr/local/lib/python3.9/dist-packages (from google-cloud-aiplatform) (4.23.4)\n",
      "Requirement already satisfied: packaging>=14.3 in /usr/local/lib/python3.9/dist-packages (from google-cloud-aiplatform) (23.2)\n",
      "Requirement already satisfied: google-api-core[grpc]!=2.0.*,!=2.1.*,!=2.2.*,!=2.3.*,!=2.4.*,!=2.5.*,!=2.6.*,!=2.7.*,<3.0.0dev,>=1.34.1 in /usr/local/lib/python3.9/dist-packages (from google-cloud-aiplatform) (2.16.2)\n",
      "Requirement already satisfied: googleapis-common-protos<2.0.dev0,>=1.56.2 in /usr/local/lib/python3.9/dist-packages (from google-api-core[grpc]!=2.0.*,!=2.1.*,!=2.2.*,!=2.3.*,!=2.4.*,!=2.5.*,!=2.6.*,!=2.7.*,<3.0.0dev,>=1.34.1->google-cloud-aiplatform) (1.62.0)\n",
      "Requirement already satisfied: requests<3.0.0.dev0,>=2.18.0 in /usr/local/lib/python3.9/dist-packages (from google-api-core[grpc]!=2.0.*,!=2.1.*,!=2.2.*,!=2.3.*,!=2.4.*,!=2.5.*,!=2.6.*,!=2.7.*,<3.0.0dev,>=1.34.1->google-cloud-aiplatform) (2.31.0)\n",
      "Requirement already satisfied: grpcio<2.0dev,>=1.33.2 in /usr/local/lib/python3.9/dist-packages (from google-api-core[grpc]!=2.0.*,!=2.1.*,!=2.2.*,!=2.3.*,!=2.4.*,!=2.5.*,!=2.6.*,!=2.7.*,<3.0.0dev,>=1.34.1->google-cloud-aiplatform) (1.60.1)\n",
      "Requirement already satisfied: grpcio-status<2.0.dev0,>=1.33.2 in /usr/local/lib/python3.9/dist-packages (from google-api-core[grpc]!=2.0.*,!=2.1.*,!=2.2.*,!=2.3.*,!=2.4.*,!=2.5.*,!=2.6.*,!=2.7.*,<3.0.0dev,>=1.34.1->google-cloud-aiplatform) (1.60.1)\n",
      "Requirement already satisfied: cachetools<6.0,>=2.0.0 in /usr/local/lib/python3.9/dist-packages (from google-auth<3.0.0dev,>=2.14.1->google-cloud-aiplatform) (5.3.2)\n",
      "Requirement already satisfied: pyasn1-modules>=0.2.1 in /usr/local/lib/python3.9/dist-packages (from google-auth<3.0.0dev,>=2.14.1->google-cloud-aiplatform) (0.3.0)\n",
      "Requirement already satisfied: rsa<5,>=3.1.4 in /usr/local/lib/python3.9/dist-packages (from google-auth<3.0.0dev,>=2.14.1->google-cloud-aiplatform) (4.9)\n",
      "Requirement already satisfied: google-cloud-core<3.0.0dev,>=1.6.0 in /usr/local/lib/python3.9/dist-packages (from google-cloud-bigquery<4.0.0dev,>=1.15.0->google-cloud-aiplatform) (2.4.1)\n",
      "Requirement already satisfied: google-resumable-media<3.0dev,>=0.6.0 in /usr/local/lib/python3.9/dist-packages (from google-cloud-bigquery<4.0.0dev,>=1.15.0->google-cloud-aiplatform) (2.7.0)\n",
      "Requirement already satisfied: python-dateutil<3.0dev,>=2.7.2 in /usr/local/lib/python3.9/dist-packages (from google-cloud-bigquery<4.0.0dev,>=1.15.0->google-cloud-aiplatform) (2.8.2)\n",
      "Requirement already satisfied: grpc-google-iam-v1<1.0.0dev,>=0.12.4 in /usr/local/lib/python3.9/dist-packages (from google-cloud-resource-manager<3.0.0dev,>=1.3.3->google-cloud-aiplatform) (0.13.0)\n",
      "Requirement already satisfied: google-crc32c<2.0dev,>=1.0 in /usr/local/lib/python3.9/dist-packages (from google-cloud-storage<3.0.0dev,>=1.32.0->google-cloud-aiplatform) (1.5.0)\n",
      "Requirement already satisfied: pyasn1<0.6.0,>=0.4.6 in /usr/local/lib/python3.9/dist-packages (from pyasn1-modules>=0.2.1->google-auth<3.0.0dev,>=2.14.1->google-cloud-aiplatform) (0.5.1)\n",
      "Requirement already satisfied: six>=1.5 in /usr/local/lib/python3.9/dist-packages (from python-dateutil<3.0dev,>=2.7.2->google-cloud-bigquery<4.0.0dev,>=1.15.0->google-cloud-aiplatform) (1.16.0)\n",
      "Requirement already satisfied: charset-normalizer<4,>=2 in /usr/local/lib/python3.9/dist-packages (from requests<3.0.0.dev0,>=2.18.0->google-api-core[grpc]!=2.0.*,!=2.1.*,!=2.2.*,!=2.3.*,!=2.4.*,!=2.5.*,!=2.6.*,!=2.7.*,<3.0.0dev,>=1.34.1->google-cloud-aiplatform) (3.3.2)\n",
      "Requirement already satisfied: idna<4,>=2.5 in /usr/local/lib/python3.9/dist-packages (from requests<3.0.0.dev0,>=2.18.0->google-api-core[grpc]!=2.0.*,!=2.1.*,!=2.2.*,!=2.3.*,!=2.4.*,!=2.5.*,!=2.6.*,!=2.7.*,<3.0.0dev,>=1.34.1->google-cloud-aiplatform) (3.6)\n",
      "Requirement already satisfied: urllib3<3,>=1.21.1 in /usr/local/lib/python3.9/dist-packages (from requests<3.0.0.dev0,>=2.18.0->google-api-core[grpc]!=2.0.*,!=2.1.*,!=2.2.*,!=2.3.*,!=2.4.*,!=2.5.*,!=2.6.*,!=2.7.*,<3.0.0dev,>=1.34.1->google-cloud-aiplatform) (2.2.0)\n",
      "Requirement already satisfied: certifi>=2017.4.17 in /usr/local/lib/python3.9/dist-packages (from requests<3.0.0.dev0,>=2.18.0->google-api-core[grpc]!=2.0.*,!=2.1.*,!=2.2.*,!=2.3.*,!=2.4.*,!=2.5.*,!=2.6.*,!=2.7.*,<3.0.0dev,>=1.34.1->google-cloud-aiplatform) (2024.2.2)\n",
      "Requirement already satisfied: numpy<2,>=1.14 in /usr/local/lib/python3.9/dist-packages (from shapely<3.0.0dev->google-cloud-aiplatform) (1.26.3)\n",
      "Installing collected packages: shapely, google-cloud-resource-manager, google-cloud-aiplatform\n",
      "Successfully installed google-cloud-aiplatform-1.42.1 google-cloud-resource-manager-1.12.2 shapely-2.0.3\n",
      "Note: you may need to restart the kernel to use updated packages.\n"
     ]
    }
   ],
   "source": [
    "pip install --upgrade google-cloud-aiplatform"
   ]
  },
  {
   "cell_type": "code",
   "execution_count": 2,
   "metadata": {},
   "outputs": [
    {
     "name": "stderr",
     "output_type": "stream",
     "text": [
      "2024-02-24 07:18:31.474346: I external/local_tsl/tsl/cuda/cudart_stub.cc:31] Could not find cuda drivers on your machine, GPU will not be used.\n",
      "2024-02-24 07:18:32.313581: E external/local_xla/xla/stream_executor/cuda/cuda_dnn.cc:9261] Unable to register cuDNN factory: Attempting to register factory for plugin cuDNN when one has already been registered\n",
      "2024-02-24 07:18:32.313705: E external/local_xla/xla/stream_executor/cuda/cuda_fft.cc:607] Unable to register cuFFT factory: Attempting to register factory for plugin cuFFT when one has already been registered\n",
      "2024-02-24 07:18:32.494546: E external/local_xla/xla/stream_executor/cuda/cuda_blas.cc:1515] Unable to register cuBLAS factory: Attempting to register factory for plugin cuBLAS when one has already been registered\n",
      "2024-02-24 07:18:32.873327: I external/local_tsl/tsl/cuda/cudart_stub.cc:31] Could not find cuda drivers on your machine, GPU will not be used.\n",
      "2024-02-24 07:18:32.879164: I tensorflow/core/platform/cpu_feature_guard.cc:182] This TensorFlow binary is optimized to use available CPU instructions in performance-critical operations.\n",
      "To enable the following instructions: AVX2 FMA, in other operations, rebuild TensorFlow with the appropriate compiler flags.\n",
      "2024-02-24 07:18:35.541758: W tensorflow/compiler/tf2tensorrt/utils/py_utils.cc:38] TF-TRT Warning: Could not find TensorRT\n"
     ]
    }
   ],
   "source": [
    "PROJECT_ID = 'my-project-gemini-415306' # @param (type: 'string')\n",
    "LOCATION = 'us-central1' # @param (type: 'string')\n",
    "\n",
    "# Initialize Vertex AI\n",
    "\n",
    "import vertexai\n",
    "\n",
    "vertexai.init(project = PROJECT_ID, location = LOCATION)"
   ]
  },
  {
   "cell_type": "code",
   "execution_count": 3,
   "metadata": {},
   "outputs": [],
   "source": [
    "import vertexai\n",
    "from vertexai.preview.generative_models import GenerativeModel\n",
    "model = GenerativeModel(\"gemini-pro\")"
   ]
  },
  {
   "cell_type": "code",
   "execution_count": 4,
   "metadata": {},
   "outputs": [
    {
     "name": "stdout",
     "output_type": "stream",
     "text": [
      "I do not have access to real-time information and cannot provide the current exchange rate. For the most up-to-date rates, please check a currency converter or financial news website.\n"
     ]
    }
   ],
   "source": [
    "response = model.generate_content(\n",
    "    \"What's the exchange rate for euros to dollars today?\"\n",
    ")\n",
    "print(response.text)"
   ]
  },
  {
   "cell_type": "code",
   "execution_count": 5,
   "metadata": {},
   "outputs": [
    {
     "name": "stdout",
     "output_type": "stream",
     "text": [
      "```JSON\n",
      "{\n",
      "  \"parameters\": {\n",
      "    \"fromCurrency\" : \"euros\",\n",
      "    \"toCurrency\" : \"US dollars\"\n",
      "  }\n",
      "}\n",
      "```\n"
     ]
    }
   ],
   "source": [
    "user_prompt = \"What's the exchange rate from euros to US dollars today?\"\n",
    "\n",
    "response = model.generate_content(\"\"\"\n",
    "Your task is to extract parameters from the user's input and return it as a\n",
    "structured JSON payload. The user will ask about the exchange rate and which\n",
    "currency they are converting from and converting to.\n",
    "\n",
    "User input: {user_prompt}\n",
    "\n",
    "Please extract the currencies as parameters and put them in a JSON object.\n",
    "\"\"\".format(user_prompt=user_prompt))\n",
    "print(response.text)"
   ]
  },
  {
   "cell_type": "code",
   "execution_count": 6,
   "metadata": {},
   "outputs": [
    {
     "data": {
      "text/plain": [
       "'{\"amount\":1.0,\"base\":\"EUR\",\"date\":\"2024-02-23\",\"rates\":{\"AUD\":1.6467,\"BGN\":1.9558,\"BRL\":5.3831,\"CAD\":1.4587,\"CHF\":0.9522,\"CNY\":7.7972,\"CZK\":25.354,\"DKK\":7.4544,\"GBP\":0.8534,\"HKD\":8.476,\"HUF\":388.47,\"IDR\":16908,\"ILS\":3.9322,\"INR\":89.82,\"ISK\":148.5,\"JPY\":162.91,\"KRW\":1440.95,\"MXN\":18.5089,\"MYR\":5.1759,\"NOK\":11.389,\"NZD\":1.7445,\"PHP\":60.562,\"PLN\":4.3118,\"RON\":4.9744,\"SEK\":11.1545,\"SGD\":1.4553,\"THB\":39.013,\"TRY\":33.684,\"USD\":1.0834,\"ZAR\":20.867}}'"
      ]
     },
     "execution_count": 6,
     "metadata": {},
     "output_type": "execute_result"
    }
   ],
   "source": [
    "import requests\n",
    "url = \"https://api.frankfurter.app/latest\"\n",
    "response = requests.get(url)\n",
    "response.text"
   ]
  },
  {
   "cell_type": "code",
   "execution_count": 8,
   "metadata": {},
   "outputs": [],
   "source": [
    "from vertexai.preview.generative_models import (\n",
    "    Content,\n",
    "    FunctionDeclaration,\n",
    "    GenerativeModel,\n",
    "    Part,\n",
    "    Tool,\n",
    ")\n",
    "\n",
    "model = GenerativeModel(\"gemini-pro\")"
   ]
  },
  {
   "cell_type": "code",
   "execution_count": 9,
   "metadata": {},
   "outputs": [],
   "source": [
    "get_exchange_rate_func = FunctionDeclaration(\n",
    "    name=\"get_exchange_rate\",\n",
    "    description=\"Get the exchange rate for currencies between countries\",\n",
    "    parameters={\n",
    "    \"type\": \"object\",\n",
    "    \"properties\": {\n",
    "        \"currency_date\": {\n",
    "            \"type\": \"string\",\n",
    "            \"description\": \"A date that must always be in YYYY-MM-DD format or the value 'latest' if a time period is not specified\"\n",
    "        },\n",
    "        \"currency_from\": {\n",
    "            \"type\": \"string\",\n",
    "            \"description\": \"The currency to convert from in ISO 4217 format\"\n",
    "        },\n",
    "        \"currency_to\": {\n",
    "            \"type\": \"string\",\n",
    "            \"description\": \"The currency to convert to in ISO 4217 format\"\n",
    "        }\n",
    "    },\n",
    "         \"required\": [\n",
    "            \"currency_from\",\n",
    "            \"currency_date\",\n",
    "      ]\n",
    "  },\n",
    ")"
   ]
  },
  {
   "cell_type": "code",
   "execution_count": 10,
   "metadata": {},
   "outputs": [],
   "source": [
    "exchange_rate_tool = Tool(\n",
    "    function_declarations=[get_exchange_rate_func],\n",
    ")"
   ]
  },
  {
   "cell_type": "code",
   "execution_count": 11,
   "metadata": {},
   "outputs": [],
   "source": [
    "prompt = \"\"\"What is the exchange rate from Australian dollars to Swedish krona?\n",
    "How much is 500 Australian dollars worth in Swedish krona?\"\"\"\n",
    "\n",
    "response = model.generate_content(\n",
    "    prompt,\n",
    "    tools=[exchange_rate_tool],\n",
    ")"
   ]
  },
  {
   "cell_type": "code",
   "execution_count": 13,
   "metadata": {},
   "outputs": [
    {
     "name": "stdout",
     "output_type": "stream",
     "text": [
      "role: \"model\"\n",
      "parts {\n",
      "  function_call {\n",
      "    name: \"get_exchange_rate\"\n",
      "    args {\n",
      "      fields {\n",
      "        key: \"currency_to\"\n",
      "        value {\n",
      "          string_value: \"SEK\"\n",
      "        }\n",
      "      }\n",
      "      fields {\n",
      "        key: \"currency_from\"\n",
      "        value {\n",
      "          string_value: \"AUD\"\n",
      "        }\n",
      "      }\n",
      "      fields {\n",
      "        key: \"currency_date\"\n",
      "        value {\n",
      "          string_value: \"latest\"\n",
      "        }\n",
      "      }\n",
      "    }\n",
      "  }\n",
      "}\n",
      "\n"
     ]
    }
   ],
   "source": [
    "print(response.candidates[0].content)"
   ]
  },
  {
   "cell_type": "code",
   "execution_count": 14,
   "metadata": {},
   "outputs": [
    {
     "data": {
      "text/plain": [
       "{'from': 'AUD', 'date': 'latest', 'to': 'SEK'}"
      ]
     },
     "execution_count": 14,
     "metadata": {},
     "output_type": "execute_result"
    }
   ],
   "source": [
    "params = {}\n",
    "for key, value in response.candidates[0].content.parts[0].function_call.args.items():\n",
    "    params[key[9:]] = value\n",
    "params"
   ]
  },
  {
   "cell_type": "code",
   "execution_count": 15,
   "metadata": {},
   "outputs": [
    {
     "data": {
      "text/plain": [
       "'{\"amount\":1.0,\"base\":\"AUD\",\"date\":\"2024-02-23\",\"rates\":{\"SEK\":6.7739}}'"
      ]
     },
     "execution_count": 15,
     "metadata": {},
     "output_type": "execute_result"
    }
   ],
   "source": [
    "import requests\n",
    "url = f\"https://api.frankfurter.app/{params['date']}\"\n",
    "api_response = requests.get(url, params=params)\n",
    "api_response.text"
   ]
  },
  {
   "cell_type": "code",
   "execution_count": 16,
   "metadata": {},
   "outputs": [
    {
     "data": {
      "text/plain": [
       "'The exchange rate from Australian dollars to Swedish krona on 2024-02-23 is 1 AUD = 6.7739 SEK.\\n\\nTherefore, 500 Australian dollars is worth 500 * 6.7739 = 3386.95 Swedish krona.'"
      ]
     },
     "execution_count": 16,
     "metadata": {},
     "output_type": "execute_result"
    }
   ],
   "source": [
    "response = model.generate_content(\n",
    "    [\n",
    "    Content(role=\"user\", parts=[\n",
    "        Part.from_text(prompt + \"\"\"Give your answer in steps with lots of detail\n",
    "            and context, including the exchange rate and date.\"\"\"),\n",
    "    ]),\n",
    "    Content(role=\"function\", parts=[\n",
    "        Part.from_dict({\n",
    "            \"function_call\": {\n",
    "                \"name\": \"get_exchange_rate\",\n",
    "            }\n",
    "        })\n",
    "    ]),\n",
    "    Content(role=\"function\", parts=[\n",
    "        Part.from_function_response(\n",
    "            name=\"get_exchange_rate\",\n",
    "            response={\n",
    "                \"content\": api_response.text,\n",
    "            }\n",
    "        )\n",
    "    ]),\n",
    "    ],\n",
    "    tools=[exchange_rate_tool],\n",
    ")\n",
    "\n",
    "\n",
    "response.candidates[0].content.parts[0].text"
   ]
  }
 ],
 "metadata": {
  "kernelspec": {
   "display_name": "Python 3",
   "language": "python",
   "name": "python3"
  },
  "language_info": {
   "codemirror_mode": {
    "name": "ipython",
    "version": 3
   },
   "file_extension": ".py",
   "mimetype": "text/x-python",
   "name": "python",
   "nbconvert_exporter": "python",
   "pygments_lexer": "ipython3",
   "version": "3.9.2"
  }
 },
 "nbformat": 4,
 "nbformat_minor": 2
}
